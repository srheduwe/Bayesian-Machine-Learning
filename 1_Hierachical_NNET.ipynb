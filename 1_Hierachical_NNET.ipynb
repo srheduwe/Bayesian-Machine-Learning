{
 "cells": [
  {
   "cell_type": "markdown",
   "metadata": {
    "cell_id": "e98e37346857447ca6b2f561b4b5fdbc",
    "deepnote_cell_height": 134,
    "deepnote_cell_type": "markdown",
    "tags": []
   },
   "source": [
    "# Bias Analysis with Hierachical Neural Networks"
   ]
  },
  {
   "cell_type": "markdown",
   "metadata": {
    "cell_id": "896c3e7e1121455e8fdf136d32fcdabb",
    "deepnote_cell_height": 70,
    "deepnote_cell_type": "markdown",
    "tags": []
   },
   "source": [
    "## 1. Analysis of the age group bias"
   ]
  },
  {
   "cell_type": "markdown",
   "metadata": {
    "cell_id": "5ae7bbe0253f48f68b0d2ba3f2031991",
    "deepnote_cell_height": 118,
    "deepnote_cell_type": "markdown",
    "tags": []
   },
   "source": [
    "In this part, we will build a model, which has the goal to investigate, in which way the **age groups affect the choice of transport**. How this is done will be explained later in detail. The variable of age has been chosen, as it comes with a lot of information: older people are generally more affluent, and less agile. Moreover, does the age contain information about individual families; it is more probable, that a 30-year-old has a 5-year-old daughter as is the case with a 60-year-old."
   ]
  },
  {
   "cell_type": "markdown",
   "metadata": {
    "cell_id": "487f059cbf304da3a0f473b7ece65dd6",
    "deepnote_cell_height": 62,
    "deepnote_cell_type": "markdown",
    "tags": []
   },
   "source": [
    "### 1.1 Data Preperation"
   ]
  },
  {
   "cell_type": "code",
   "execution_count": 1,
   "metadata": {
    "cell_id": "4c4088ea69334a2e8d6d74a1178fe287",
    "deepnote_cell_height": 188,
    "deepnote_cell_type": "code",
    "deepnote_to_be_reexecuted": false,
    "execution_millis": 4975,
    "execution_start": 1653662675017,
    "source_hash": "a1712a72",
    "tags": []
   },
   "outputs": [],
   "source": [
    "from load_data import make_datasets3\n",
    "\n",
    "X, Y, n_cat, n_ind, ind, labels, _ = make_datasets3(10000)"
   ]
  },
  {
   "cell_type": "code",
   "execution_count": 2,
   "metadata": {
    "cell_id": "a199a2e69d244911af2eabf1ce53e296",
    "deepnote_cell_height": 477,
    "deepnote_cell_type": "code",
    "deepnote_to_be_reexecuted": false,
    "execution_millis": 203,
    "execution_start": 1653662682701,
    "source_hash": "e8bd9356",
    "tags": []
   },
   "outputs": [],
   "source": [
    "import numpy as np\n",
    "import pandas as pd\n",
    "from matplotlib import pyplot as plt\n",
    "from sklearn import linear_model\n",
    "import seaborn as sns\n",
    "import torch\n",
    "\n",
    "import pyro\n",
    "import pyro.distributions as dist\n",
    "from pyro.contrib.autoguide import AutoDiagonalNormal, AutoMultivariateNormal\n",
    "from pyro.infer import MCMC, NUTS, HMC, SVI, Trace_ELBO\n",
    "from pyro.optim import Adam, ClippedAdam\n",
    "\n",
    "import warnings\n",
    "#warnings.filterwarnings(\"ignore\", category=FutureWarning)\n",
    "\n",
    "# fix random generator seed (for reproducibility of results)\n",
    "np.random.seed(42)\n",
    "\n",
    "# matplotlib style options\n",
    "plt.style.use('ggplot')\n",
    "%matplotlib inline\n",
    "plt.rcParams['figure.figsize'] = (12, 8)"
   ]
  },
  {
   "cell_type": "code",
   "execution_count": null,
   "metadata": {
    "cell_id": "98ac4b78108f4ab082e22c577951bd89",
    "deepnote_cell_height": 348,
    "deepnote_cell_type": "code",
    "deepnote_to_be_reexecuted": false,
    "execution_millis": 708,
    "execution_start": 1653649996928,
    "source_hash": "1fa68c53",
    "tags": []
   },
   "outputs": [
    {
     "name": "stdout",
     "output_type": "stream",
     "text": [
      "num train: 6600\n",
      "num test: 3400\n"
     ]
    }
   ],
   "source": [
    "train_perc = 0.66 # percentage of training data\n",
    "split_point = int(train_perc*len(Y))\n",
    "perm = np.random.permutation(len(Y))\n",
    "ix_train = perm[:split_point]\n",
    "ix_test = perm[split_point:]\n",
    "X_train = X[ix_train,:]\n",
    "X_test = X[ix_test,:]\n",
    "ind_train = ind[ix_train]\n",
    "ind_test = ind[ix_test]\n",
    "y_train = Y[ix_train]\n",
    "y_test = Y[ix_test]\n",
    "print(\"num train: %d\" % len(y_train))\n",
    "print(\"num test: %d\" % len(y_test))"
   ]
  },
  {
   "cell_type": "markdown",
   "metadata": {
    "cell_id": "198af9310887498f968c3b8c90bcea60",
    "deepnote_cell_height": 62,
    "deepnote_cell_type": "markdown",
    "tags": []
   },
   "source": [
    "### 1.2 Baseline: Sklearn Regression Model"
   ]
  },
  {
   "cell_type": "markdown",
   "metadata": {
    "cell_id": "1c257afe2bc2495b945da35fcaa907df",
    "deepnote_cell_height": 74,
    "deepnote_cell_type": "markdown",
    "tags": []
   },
   "source": [
    "We run a simple Sklearn regression model to compare the achieved scores to. This model will be the benchmark for our model."
   ]
  },
  {
   "cell_type": "code",
   "execution_count": null,
   "metadata": {
    "cell_id": "7cc879101fcc45209298f2e30b3befcc",
    "deepnote_cell_height": 332,
    "deepnote_cell_type": "code",
    "deepnote_to_be_reexecuted": false,
    "execution_millis": 3145,
    "execution_start": 1653650000655,
    "source_hash": "488f8454",
    "tags": []
   },
   "outputs": [
    {
     "name": "stdout",
     "output_type": "stream",
     "text": [
      "predictions: [1. 1. 1. ... 1. 0. 1.]\n",
      "true values: [1. 1. 1. ... 1. 0. 1.]\n",
      "Accuracy: 0.775\n"
     ]
    }
   ],
   "source": [
    "# create and fit logistic regression model\n",
    "logreg = linear_model.LogisticRegression(solver='lbfgs', multi_class='auto', max_iter=1000)\n",
    "logreg.fit(X_train, y_train)\n",
    "\n",
    "# make predictions for test set\n",
    "y_hat = logreg.predict(X_test)\n",
    "print(\"predictions:\", y_hat)\n",
    "print(\"true values:\", y_test)\n",
    "\n",
    "# evaluate prediction accuracy\n",
    "print(\"Accuracy:\", 1.0*np.sum(y_hat == y_test) / len(y_test))"
   ]
  },
  {
   "cell_type": "code",
   "execution_count": null,
   "metadata": {
    "cell_id": "c4c0e29fac884670a3f9cffc0cf89283",
    "deepnote_cell_height": 330,
    "deepnote_cell_type": "code",
    "deepnote_to_be_reexecuted": false,
    "execution_millis": 34,
    "execution_start": 1653650006268,
    "source_hash": "c4e6e376",
    "tags": []
   },
   "outputs": [
    {
     "name": "stdout",
     "output_type": "stream",
     "text": [
      "              precision    recall  f1-score   support\n",
      "\n",
      "         0.0       0.69      0.73      0.71       858\n",
      "         1.0       0.82      0.89      0.85      2225\n",
      "         2.0       0.34      0.08      0.13       191\n",
      "         3.0       0.47      0.06      0.10       126\n",
      "\n",
      "    accuracy                           0.78      3400\n",
      "   macro avg       0.58      0.44      0.45      3400\n",
      "weighted avg       0.75      0.78      0.75      3400\n",
      "\n"
     ]
    }
   ],
   "source": [
    "from sklearn.metrics import classification_report\n",
    "print(classification_report(y_test, y_hat))"
   ]
  },
  {
   "cell_type": "markdown",
   "metadata": {
    "cell_id": "317fc54da4e342b1ab38dc0ca3e41baa",
    "deepnote_cell_height": 118,
    "deepnote_cell_type": "markdown",
    "tags": []
   },
   "source": [
    "The base model has an **accuracy of 77.5 %** and similar F1 scores. However, we see that the quality of the prediction is majorly dependent on the number of rows for each class. Therefore, we see worse prediction metrics for \"2\" (Bus) and \"3\" (Train) than for \"0\" (Bike) and \"1\" (Car). In the cell below, we show the distribution of the transport modes for this dataset. We can see, that we have an **imbalanced dataset**."
   ]
  },
  {
   "cell_type": "code",
   "execution_count": null,
   "metadata": {
    "cell_id": "e76ce93355714b0084e1686deca07924",
    "deepnote_cell_height": 194,
    "deepnote_cell_type": "code",
    "deepnote_output_heights": [
     97
    ],
    "deepnote_to_be_reexecuted": false,
    "execution_millis": 104,
    "execution_start": 1653650017566,
    "source_hash": "4a0fc198",
    "tags": []
   },
   "outputs": [
    {
     "data": {
      "text/plain": [
       "0.0    0.2501\n",
       "1.0    0.6531\n",
       "2.0    0.0568\n",
       "3.0    0.0400\n",
       "dtype: float64"
      ]
     },
     "execution_count": 8,
     "metadata": {},
     "output_type": "execute_result"
    }
   ],
   "source": [
    "pd.DataFrame(Y).value_counts().sort_index()/len(Y)"
   ]
  },
  {
   "cell_type": "code",
   "execution_count": null,
   "metadata": {
    "cell_id": "5c0b722c2b554426ab1dd76f8fb1d0fa",
    "deepnote_cell_height": 226,
    "deepnote_cell_type": "code",
    "deepnote_to_be_reexecuted": false,
    "execution_millis": 26,
    "execution_start": 1653650020191,
    "source_hash": "e6f72b10",
    "tags": []
   },
   "outputs": [
    {
     "name": "stderr",
     "output_type": "stream",
     "text": [
      "<ipython-input-9-b6be2e0a6cbd>:4: UserWarning: To copy construct from a tensor, it is recommended to use sourceTensor.clone().detach() or sourceTensor.clone().detach().requires_grad_(True), rather than torch.tensor(sourceTensor).\n",
      "  ind_train = torch.tensor(ind_train).long()\n"
     ]
    }
   ],
   "source": [
    "# Prepare data for Pyro model\n",
    "X_train = torch.tensor(X_train).float()\n",
    "y_train = torch.tensor(y_train).float()\n",
    "ind_train = torch.tensor(ind_train).long()"
   ]
  },
  {
   "cell_type": "markdown",
   "metadata": {
    "cell_id": "6b1dd8a770934a629963213b92c85d25",
    "deepnote_cell_height": 62,
    "deepnote_cell_type": "markdown",
    "tags": []
   },
   "source": [
    "### 1.3 NNet with age group bias"
   ]
  },
  {
   "cell_type": "markdown",
   "metadata": {
    "cell_id": "8018f30fe51a4d45b5c91949733bf972",
    "deepnote_cell_height": 456,
    "deepnote_cell_type": "markdown",
    "tags": []
   },
   "source": [
    "The following model is a nnet which receives all the X columns as input data expect for the age groups. The **age** groups (grouped by 10 year spans) shall be **modeled with a hierchical intercept alpha and interpreted afterwards**. By doing so, we wish to get insights, how age determines the choice of mode, when all other parameters are kept out and modelled in the black box. The **generative process** denotes as following:\n",
    "1. Draw neural network parameters $\\theta \\sim N(\\theta| 0,$\n",
    "2. For each travel mode $c \\in \\{1, ..., C\\}$\n",
    " *  Draw global intercept mean $\\mu_c \\sim \\mathcal{N}(\\mu_c | 0, \\sigma_{\\alpha_c}^2)$\n",
    " *  Draw global intercept variance $\\sigma_c \\sim HalfCauchy(\\sigma_c | 0, \\sigma_{\\alpha_c}^2)$\n",
    " * For each individual/city $l \\in \\{1, ..., L\\}$\n",
    " * Draw $\\alpha_{l,c} \\sim \\mathcal{N}(\\alpha_{l,c} | \\mu_c, \\sigma_c)$\n",
    "3. For each data point $n=\\{1,...,N\\}$\n",
    " * Draw target class $y_n \\sim Multinomial(y_n | SoftMax(f_{nnet}(x_n) +\\alpha_{l,c}))$\n",
    "\n",
    "where $f_{nnet(x_n)}$ is a neural network.\n",
    "\n",
    "As the only difference between the two models which we built in this notebook the intercept is, are the generative process and the PGM are the same and not shown twice."
   ]
  },
  {
   "cell_type": "markdown",
   "metadata": {
    "cell_id": "7b031de27b6d4cdc9e9659cb50201f0d",
    "deepnote_cell_height": 52,
    "deepnote_cell_type": "markdown",
    "tags": []
   },
   "source": [
    "The **PGM** then looks like this:"
   ]
  },
  {
   "cell_type": "markdown",
   "metadata": {
    "cell_id": "d11d8265e719457cbc112634d2a0db5e",
    "deepnote_cell_height": 627.5,
    "deepnote_cell_type": "markdown",
    "owner_user_id": "041eb72a-660b-4482-9c7d-66471ba7cb3b",
    "tags": []
   },
   "source": [
    "## PGM\n",
    "![pgm](Pictures/PGM_new.png)\n"
   ]
  },
  {
   "cell_type": "code",
   "execution_count": null,
   "metadata": {
    "cell_id": "6956542819f54ea182e65eaa31e6e17b",
    "deepnote_cell_height": 423,
    "deepnote_cell_type": "code",
    "deepnote_to_be_reexecuted": false,
    "execution_millis": 28,
    "execution_start": 1653650026745,
    "owner_user_id": "a2ebb18a-19ee-436c-bd9e-611e507c9358",
    "source_hash": "b524159f",
    "tags": []
   },
   "outputs": [],
   "source": [
    "#NNet definition given by professors\n",
    "class FFNN(torch.nn.Module):\n",
    "    def __init__(self, n_in, n_hidden, n_out):\n",
    "        super(FFNN, self).__init__()\n",
    "        \n",
    "        # Architecture\n",
    "        self.in_layer = torch.nn.Linear(n_in, n_hidden)\n",
    "        self.h_layer = torch.nn.Linear(n_hidden, n_hidden)\n",
    "        self.out_layer = torch.nn.Linear(n_hidden, n_out)\n",
    "        \n",
    "        # Activation functions\n",
    "        self.tanh = torch.nn.Tanh()\n",
    "        \n",
    "    def forward(self, X):\n",
    "        # Forward pass\n",
    "        X = self.tanh(self.in_layer(X))\n",
    "        X = self.tanh(self.h_layer(X))\n",
    "        X = self.out_layer(X)\n",
    "        \n",
    "        return X"
   ]
  },
  {
   "cell_type": "markdown",
   "metadata": {
    "cell_id": "c89128efffd44a279c7d548c8446351c",
    "deepnote_cell_height": 140,
    "deepnote_cell_type": "markdown",
    "tags": []
   },
   "source": [
    "Little note: it was not possible to sample alpha with a pyro.plate in the model. When alpha is drawn with a pyro.plate in this hierarchical model with a nnet, an error is created. The error occurs when running the predictive module. The \"X\" is **increasing from 2D to 3D** for unknown reasons and this is **causing an error in the class FFNN**, as it is expecting a 2D shape. We could fix this problem by using a for loop to sample alpha and by extracting all the 9 alphas for all age groups one by one."
   ]
  },
  {
   "cell_type": "code",
   "execution_count": null,
   "metadata": {
    "cell_id": "361f6632eb94423c9827da986e179971",
    "deepnote_cell_height": 783,
    "deepnote_cell_type": "code",
    "deepnote_to_be_reexecuted": false,
    "execution_millis": 33,
    "execution_start": 1653650033400,
    "owner_user_id": "259047a3-617b-4051-9c1b-7df94da80616",
    "source_hash": "73537adb",
    "tags": []
   },
   "outputs": [],
   "source": [
    "def DNN_bias(X, ind, n_cat, n_ind, obs=None):\n",
    "    # define the input dimension with the amout of columns we got\n",
    "    input_dim = X.shape[1]\n",
    "\n",
    "    # initialize the neural network\n",
    "    torch_model = FFNN(n_in=input_dim, n_hidden=3, n_out=n_cat)  \n",
    "\n",
    "    # to make the model baysian, priors are assigned for all parameters\n",
    "    priors = {}\n",
    "    for name, par in torch_model.named_parameters():  \n",
    "        priors[name] = dist.Normal(torch.zeros(*par.shape), torch.ones(*par.shape)).to_event()\n",
    "\n",
    "    bayesian_model = pyro.random_module('bayesian_model', torch_model, priors)\n",
    "\n",
    "    # Initialize the model\n",
    "    sampled_model = bayesian_model()                                           \n",
    "\n",
    "    \n",
    "    # Defining the hierachical NNet model starts here\n",
    "\n",
    "    # Draw a prior for the bias mean. For sigma, different values have been used and it was found, that\n",
    "    # 1 is the most adequate chocice\n",
    "    alpha_mu = pyro.sample(\"alpha_mu\", dist.Normal(torch.zeros(n_cat), \n",
    "                                    1*torch.ones(n_cat)).to_event()) \n",
    "    \n",
    "    # Draw a prior for the bias variance\n",
    "    alpha_sigma  = pyro.sample(\"alpha_sigma\",  dist.HalfCauchy(1*torch.ones(n_cat)).to_event())\n",
    "    \n",
    "    # Draw bias for each age group\n",
    "    alpha = torch.zeros(n_ind, n_cat)\n",
    "    for i in range(n_ind):\n",
    "        alpha[i] = pyro.sample(\"alpha_%d\"%i, dist.Normal(alpha_mu, alpha_sigma).to_event())\n",
    "\n",
    "    # Combine bias with nnet\n",
    "    with pyro.plate(\"data\", X.shape[0]):\n",
    "        nnet = sampled_model(X).squeeze(-1)\n",
    "        logits = alpha[ind] + nnet\n",
    "        y = pyro.sample(\"y\", dist.Categorical(logits=logits), obs=obs) \n",
    "\n",
    "    return y, alpha"
   ]
  },
  {
   "cell_type": "markdown",
   "metadata": {
    "cell_id": "931cbd5c4cf9487280cdb2052f39e369",
    "deepnote_cell_height": 74,
    "deepnote_cell_type": "markdown",
    "tags": []
   },
   "source": [
    "Besides variational inference, also mcmc methods have been tried to run. However, with the amount of variables and rows, the mcmc algorithms did not finish as they took too long. Therefore, only variational inference is presented here."
   ]
  },
  {
   "cell_type": "code",
   "execution_count": null,
   "metadata": {
    "cell_id": "32f0e4ce145a47fcab38c88e773bb721",
    "deepnote_cell_height": 670,
    "deepnote_cell_type": "code",
    "deepnote_to_be_reexecuted": false,
    "execution_millis": 853708,
    "execution_start": 1653650035668,
    "source_hash": "bba0735e",
    "tags": []
   },
   "outputs": [
    {
     "name": "stderr",
     "output_type": "stream",
     "text": [
      "/root/venv/lib/python3.8/site-packages/pyro/primitives.py:491: FutureWarning: The `random_module` primitive is deprecated, and will be removed in a future release. Use `pyro.nn.Module` to create Bayesian modules from `torch.nn.Module` instances.\n",
      "  warnings.warn(\n",
      "[0] ELBO: 11644.6\n",
      "[500] ELBO: 4414.1\n",
      "[1000] ELBO: 4226.4\n",
      "[1500] ELBO: 4173.9\n",
      "[2000] ELBO: 4155.7\n",
      "[2500] ELBO: 4149.7\n"
     ]
    }
   ],
   "source": [
    "# Define guide function\n",
    "guide = AutoDiagonalNormal(DNN_bias)\n",
    "\n",
    "# Reset parameter values\n",
    "pyro.clear_param_store()\n",
    "\n",
    "# Define the number of optimization steps\n",
    "n_steps = 3000\n",
    "\n",
    "# Setup the optimizer\n",
    "adam_params = {\"lr\": 0.005}\n",
    "optimizer = ClippedAdam(adam_params)\n",
    "\n",
    "# Setup the inference algorithm\n",
    "elbo = Trace_ELBO(num_particles=3)\n",
    "svi = SVI(DNN_bias, guide, optimizer, loss=elbo)\n",
    "\n",
    "# Do gradient steps\n",
    "for step in range(n_steps):\n",
    "    elbo = svi.step(X_train, ind_train, n_cat, n_ind, y_train) # changed ind_train-1 and y_train-1\n",
    "    if step % 500 == 0:\n",
    "        print(\"[%d] ELBO: %.1f\" % (step, elbo))"
   ]
  },
  {
   "cell_type": "markdown",
   "metadata": {
    "cell_id": "2cc901feac3943a98543dd84015ccb4a",
    "deepnote_cell_height": 62,
    "deepnote_cell_type": "markdown",
    "tags": []
   },
   "source": [
    "### 1.4 Prediction Quality"
   ]
  },
  {
   "cell_type": "code",
   "execution_count": null,
   "metadata": {
    "cell_id": "532e27ab465f4872aefc0f6884895135",
    "deepnote_cell_height": 99,
    "deepnote_cell_type": "code",
    "deepnote_to_be_reexecuted": false,
    "execution_millis": 0,
    "execution_start": 1653650889421,
    "source_hash": "d1df297e",
    "tags": []
   },
   "outputs": [],
   "source": [
    "# Prepare test data for Pyro\n",
    "X_test = torch.tensor(X_test).float()"
   ]
  },
  {
   "cell_type": "code",
   "execution_count": null,
   "metadata": {
    "cell_id": "2d4dc3deb1c34f7ca4b8e59281600d36",
    "deepnote_cell_height": 189,
    "deepnote_cell_type": "code",
    "deepnote_to_be_reexecuted": false,
    "execution_millis": 49787,
    "execution_start": 1653650889436,
    "source_hash": "776cf007",
    "tags": []
   },
   "outputs": [],
   "source": [
    "from pyro.infer import Predictive\n",
    "\n",
    "predictive = Predictive(DNN_bias, guide=guide, num_samples=2000,\n",
    "                        return_sites=(\"y\", \"alpha_sigma\"))\n",
    "samples = predictive(X_test, ind_test, n_cat, n_ind)\n",
    "\n",
    "y_samples = samples[\"y\"].detach().numpy()"
   ]
  },
  {
   "cell_type": "code",
   "execution_count": null,
   "metadata": {
    "cell_id": "4eb5a76efbc846d6845eba9322fda1f1",
    "deepnote_cell_height": 202,
    "deepnote_cell_type": "code",
    "deepnote_to_be_reexecuted": false,
    "execution_millis": 879,
    "execution_start": 1653650939244,
    "source_hash": "3a97fb90",
    "tags": []
   },
   "outputs": [
    {
     "name": "stdout",
     "output_type": "stream",
     "text": [
      "Accuracy: 0.7767647058823529\n"
     ]
    }
   ],
   "source": [
    "y_hat = samples['y'].detach().numpy()\n",
    "\n",
    "from scipy import stats as st\n",
    "y_pred, _ = st.mode(y_hat)\n",
    "\n",
    "print(\"Accuracy:\", 1.0*np.sum((y_pred[0]) == y_test) / len(y_test))"
   ]
  },
  {
   "cell_type": "code",
   "execution_count": null,
   "metadata": {
    "cell_id": "bd1610a738b64f7cb75a86d7302c6c95",
    "deepnote_cell_height": 312,
    "deepnote_cell_type": "code",
    "deepnote_to_be_reexecuted": false,
    "execution_millis": 8,
    "execution_start": 1653650940161,
    "source_hash": "343af74c",
    "tags": []
   },
   "outputs": [
    {
     "name": "stdout",
     "output_type": "stream",
     "text": [
      "              precision    recall  f1-score   support\n",
      "\n",
      "         0.0       0.68      0.76      0.72       858\n",
      "         1.0       0.82      0.88      0.85      2225\n",
      "         2.0       0.40      0.10      0.16       191\n",
      "         3.0       0.50      0.06      0.11       126\n",
      "\n",
      "    accuracy                           0.78      3400\n",
      "   macro avg       0.60      0.45      0.46      3400\n",
      "weighted avg       0.75      0.78      0.75      3400\n",
      "\n"
     ]
    }
   ],
   "source": [
    "print(classification_report(y_test, y_pred[0]))"
   ]
  },
  {
   "cell_type": "markdown",
   "metadata": {
    "cell_id": "6ef4aacd8a8c49c5b7eeb43f7a2bf23c",
    "deepnote_cell_height": 96,
    "deepnote_cell_type": "markdown",
    "tags": []
   },
   "source": [
    "We see, that we can reach an **accuracy of 77-78 %** and similar F1 scores. Sadly, we couldn't beat the baseline with this approach and have similar metrics regarding the quality of the prediction. We also see the same poor performance on classes with few rows, so the neural network couldn't perform better on that either."
   ]
  },
  {
   "cell_type": "markdown",
   "metadata": {
    "cell_id": "42c766d9994f49ec868153b669beb3d0",
    "deepnote_cell_height": 62,
    "deepnote_cell_type": "markdown",
    "tags": []
   },
   "source": [
    "### 1.5 Distributions of the priors"
   ]
  },
  {
   "cell_type": "markdown",
   "metadata": {
    "cell_id": "2e8779aad2df4b60917ba2afd045e864",
    "deepnote_cell_height": 52,
    "deepnote_cell_type": "markdown",
    "tags": []
   },
   "source": [
    "To analyze the posterior distribution, we get samples of our priors and all the 9 alphas as explained earlier."
   ]
  },
  {
   "cell_type": "code",
   "execution_count": null,
   "metadata": {
    "cell_id": "58e8e887bee04017b227f140350d2e0b",
    "deepnote_cell_height": 406,
    "deepnote_cell_type": "code",
    "deepnote_to_be_reexecuted": false,
    "execution_millis": 71296,
    "execution_start": 1653650940201,
    "source_hash": "837ab7a3",
    "tags": []
   },
   "outputs": [
    {
     "name": "stderr",
     "output_type": "stream",
     "text": [
      "/root/venv/lib/python3.8/site-packages/pyro/primitives.py:491: FutureWarning: The `random_module` primitive is deprecated, and will be removed in a future release. Use `pyro.nn.Module` to create Bayesian modules from `torch.nn.Module` instances.\n",
      "  warnings.warn(\n"
     ]
    }
   ],
   "source": [
    "from pyro.infer import Predictive\n",
    "\n",
    "predictive = Predictive(DNN_bias, guide=guide, num_samples=2000,\n",
    "                        return_sites=(\"y\", \"alpha_0\", \"alpha_1\", \"alpha_2\", \"alpha_3\", \"alpha_4\", \"alpha_5\", \"alpha_6\", \"alpha_7\", \"alpha_8\",\n",
    "                         \"alpha_mu\", \"alpha_sigma\"))\n",
    "\n",
    "samples = predictive(X_train, ind_train, n_cat, n_ind, y_train)\n",
    "\n",
    "y_samples = samples[\"y\"].detach().numpy()\n",
    "alpha_mu_samples = samples[\"alpha_mu\"].detach().numpy()\n",
    "alpha_sigma_samples = samples[\"alpha_sigma\"].detach().numpy()\n",
    "\n",
    "for i in range(n_ind):\n",
    "    globals()[f'alpha_samples{i}'] = samples[\"alpha_%d\" %i].detach().numpy()"
   ]
  },
  {
   "cell_type": "code",
   "execution_count": null,
   "metadata": {
    "cell_id": "36e06f0cb79e44869c3e67928fb81edb",
    "deepnote_cell_height": 243,
    "deepnote_cell_type": "code",
    "deepnote_to_be_reexecuted": false,
    "execution_millis": 16,
    "execution_start": 1653651011516,
    "source_hash": "281d9fdf",
    "tags": []
   },
   "outputs": [],
   "source": [
    "# The predictive module added an extra dimension, which is taken away again here\n",
    "alpha_samples_0 = alpha_samples0.reshape((alpha_samples0.shape[0]*alpha_samples0.shape[1], alpha_samples0.shape[2]))\n",
    "alpha_samples_1 = alpha_samples1.reshape((alpha_samples1.shape[0]*alpha_samples1.shape[1], alpha_samples1.shape[2]))\n",
    "alpha_samples_2 = alpha_samples2.reshape((alpha_samples2.shape[0]*alpha_samples2.shape[1], alpha_samples2.shape[2]))\n",
    "alpha_samples_3 = alpha_samples3.reshape((alpha_samples3.shape[0]*alpha_samples3.shape[1], alpha_samples3.shape[2]))\n",
    "alpha_samples_4 = alpha_samples4.reshape((alpha_samples4.shape[0]*alpha_samples4.shape[1], alpha_samples4.shape[2]))\n",
    "alpha_samples_5 = alpha_samples5.reshape((alpha_samples5.shape[0]*alpha_samples5.shape[1], alpha_samples5.shape[2]))\n",
    "alpha_samples_6 = alpha_samples6.reshape((alpha_samples6.shape[0]*alpha_samples6.shape[1], alpha_samples6.shape[2]))\n",
    "alpha_samples_7 = alpha_samples7.reshape((alpha_samples7.shape[0]*alpha_samples7.shape[1], alpha_samples7.shape[2]))\n",
    "alpha_samples_8 = alpha_samples8.reshape((alpha_samples8.shape[0]*alpha_samples8.shape[1], alpha_samples8.shape[2]))"
   ]
  },
  {
   "cell_type": "code",
   "execution_count": null,
   "metadata": {
    "cell_id": "3b047ee327354f1984d7ad81f12a5b46",
    "deepnote_cell_height": 99,
    "deepnote_cell_type": "code",
    "deepnote_to_be_reexecuted": false,
    "execution_millis": 2499419,
    "execution_start": 1653651011593,
    "source_hash": "b635d65a",
    "tags": []
   },
   "outputs": [],
   "source": [
    "# Adding all alphas together\n",
    "alphas = np.stack((alpha_samples_0, alpha_samples_1, alpha_samples_2,alpha_samples_3, alpha_samples_4,alpha_samples_5,alpha_samples_6,alpha_samples_7,alpha_samples_8), axis=0)"
   ]
  },
  {
   "cell_type": "markdown",
   "metadata": {
    "cell_id": "aae921182ecd497a916e5d693d8e24a5",
    "deepnote_cell_height": 162,
    "deepnote_cell_type": "markdown",
    "tags": []
   },
   "source": [
    "We can see, that the distributions have **spread away from their original mean of 0**. This shows us, that **the model has learned**. Apart from that, we see more narrow distributions for the transport modes, where we have a lot of data: 0 (Bike) and 1 (Car). The distributions are wider and the model is less certain for 2 (Bus) and 3 (Train). This makes sense, as the model is **more certain about the predictions, for which it has more data** avaiable. Also, we see positive means for the more common modes (bike and car) and negative means for the less common modes (bus and train), which just shows that people tend to not choose the latter as often. All these observations indicate that the model is working properly."
   ]
  },
  {
   "cell_type": "code",
   "execution_count": null,
   "metadata": {
    "cell_id": "0ccb5260cd184d06a7247f4b46963b43",
    "deepnote_cell_height": 673,
    "deepnote_cell_type": "code",
    "deepnote_output_heights": [
     468
    ],
    "deepnote_to_be_reexecuted": false,
    "execution_millis": 2131,
    "execution_start": 1653651011624,
    "source_hash": "a02dbdd0",
    "tags": []
   },
   "outputs": [
    {
     "data": {
      "image/png": "[encoded data removed]",
      "text/plain": [
       "<Figure size 864x576 with 1 Axes>"
      ]
     },
     "metadata": {
      "image/png": {
       "height": 466,
       "width": 720
      },
      "needs_background": "light"
     },
     "output_type": "display_data"
    }
   ],
   "source": [
    "import warnings\n",
    "warnings.filterwarnings(\"ignore\", category=FutureWarning)\n",
    "\n",
    "for c in range(n_cat):\n",
    "    sns.distplot(alpha_mu_samples[:,0,c])\n",
    "plt.legend([\"alpha_mu[%d]\" % c for c in range(n_cat)])\n",
    "plt.show()"
   ]
  },
  {
   "cell_type": "markdown",
   "metadata": {
    "cell_id": "8d9e52c150f84931a2fcef2593c2b0ac",
    "deepnote_cell_height": 96,
    "deepnote_cell_type": "markdown",
    "tags": []
   },
   "source": [
    "The variances of the distributions are showing a similar picture. The more data there is for each category, the more certain the model is. Therefore, the variance for the intercepts of cars and bicycles are narrower, leading to more precise predictions."
   ]
  },
  {
   "cell_type": "code",
   "execution_count": null,
   "metadata": {
    "cell_id": "367cd088fc9e454a86429099d77c8c63",
    "deepnote_cell_height": 619,
    "deepnote_cell_type": "code",
    "deepnote_output_heights": [
     468
    ],
    "deepnote_to_be_reexecuted": false,
    "execution_millis": 2177,
    "execution_start": 1653651013763,
    "source_hash": "7cdf63a2",
    "tags": []
   },
   "outputs": [
    {
     "data": {
      "image/png": "[encoded data removed]",
      "text/plain": [
       "<Figure size 864x576 with 1 Axes>"
      ]
     },
     "metadata": {
      "image/png": {
       "height": 466,
       "width": 720
      },
      "needs_background": "light"
     },
     "output_type": "display_data"
    }
   ],
   "source": [
    "for c in range(n_cat):\n",
    "    sns.distplot(alpha_sigma_samples[:,0,c])\n",
    "plt.legend([\"alpha_sigma[%d]\" % c for c in range(n_cat)])\n",
    "plt.show()"
   ]
  },
  {
   "cell_type": "code",
   "execution_count": null,
   "metadata": {
    "cell_id": "7675eef1bc4549d885fe1ef13cf7a9c6",
    "deepnote_cell_height": 81,
    "deepnote_cell_type": "code",
    "deepnote_to_be_reexecuted": false,
    "execution_millis": 28,
    "execution_start": 1653651015947,
    "source_hash": "6dd96c17",
    "tags": []
   },
   "outputs": [],
   "source": [
    "alphas = alphas.mean(axis=1)"
   ]
  },
  {
   "cell_type": "markdown",
   "metadata": {
    "cell_id": "5db0c94cd9d44605870e00ac55bab8a8",
    "deepnote_cell_height": 62,
    "deepnote_cell_type": "markdown",
    "tags": []
   },
   "source": [
    "### 1.6 Analysis of the intercepts"
   ]
  },
  {
   "cell_type": "markdown",
   "metadata": {
    "cell_id": "73a4c85c374149819d0e873a36f5a3b4",
    "deepnote_cell_height": 96,
    "deepnote_cell_type": "markdown",
    "tags": []
   },
   "source": [
    "Finally, we shall analyze the intercept alpha for all age groups across the different transport modes. To describe the effects \"alpha\" has on the prediction, we will use the nouns \"intercept\" or \"bias\" interchangeably; we always **want to describe, how \"alpha\" is influencing the prediction** apart from the neural network black box."
   ]
  },
  {
   "cell_type": "code",
   "execution_count": null,
   "metadata": {
    "cell_id": "f1adcaa05de14fe6a3e2202a0ea9bcb3",
    "deepnote_cell_height": 751.34375,
    "deepnote_cell_type": "code",
    "deepnote_output_heights": [
     546.34375
    ],
    "deepnote_to_be_reexecuted": false,
    "execution_millis": 3511,
    "execution_start": 1653651103612,
    "source_hash": "72a96b54",
    "tags": []
   },
   "outputs": [
    {
     "data": {
      "image/png": "[encoded data removed]",
      "text/plain": [
       "<Figure size 1080x720 with 4 Axes>"
      ]
     },
     "metadata": {
      "image/png": {
       "height": 592,
       "width": 882
      },
      "needs_background": "light"
     },
     "output_type": "display_data"
    }
   ],
   "source": [
    "fig, ax = plt.subplots(nrows=2, ncols=2, sharex=True, figsize=(15,10))\n",
    "modes =[\"Bike\", \"Car\", \"Bus\", \"Train\"]\n",
    "ax = ax.flatten()\n",
    "for i in range(n_cat):    \n",
    "    ax[i].scatter(range(n_ind), alphas[:,i]);\n",
    "    ax[i].set_title(modes[i])\n",
    "    plt.xticks(np.arange(n_ind), labels);"
   ]
  },
  {
   "cell_type": "markdown",
   "metadata": {
    "cell_id": "871744a97fdf46c68dc9618da99ba9c4",
    "deepnote_cell_height": 380,
    "deepnote_cell_type": "markdown",
    "tags": []
   },
   "source": [
    "Above, you can see a graph for each transport mode and the bias towards this transport for each age group. Starting with the plot showing the bicycle bias, we see that it is not the young people who have the highest intercept for bicycles as one might expect, but the 50-70-year-olds. But from 70 on, the people start riding fewer bikes, and the 80-90-year-olds ride the least bicycle of all groups, which makes sense. \n",
    "\n",
    "The 30-50-year-olds are the group with the highest bias towards cars, which comes along with lower biases towards other transport modes. The 0-20-year-olds show an average alpha value, as they have probably a lot of trips with their parents even though they don't drive by themselves. The group with the lowest car bias is the 20-30-year-olds, which might be explained as especially in the early twenties, people might not have the money to afford a car.\n",
    "\n",
    "The biases toward buses tell a simpler story: we see, that 0-10-year-olds already ride a lot of buses, probably as they go to school with them. 10-20-year-olds take the bus even more as they grow up and also take longer trips with it. Adults take the bus less as they have the possibilities to take other modes. The popularity of the bus is then rising again for old people, as they are getting less agile and can not drive a car or cycle.\n",
    "\n",
    "The train biases are very similar for all age groups except for two: the 20-30-year-olds use this mode the most while 70-80-year-olds use it the least."
   ]
  },
  {
   "cell_type": "markdown",
   "metadata": {
    "cell_id": "9d06e3cbdd174a908635bff5033fd054",
    "deepnote_cell_height": 152,
    "deepnote_cell_type": "markdown",
    "tags": []
   },
   "source": [
    "## 2. Analysis of the home city bias\n",
    "\n",
    "In this part, we built a similar model as before. The difference will be, however, that **now the home city is modeled with a bias**. We picked this as a second variable, as it seems to be similarly important for the transport choice like the age. Big cities often have better public transport while smaller cities are more dependent on cars."
   ]
  },
  {
   "cell_type": "markdown",
   "metadata": {
    "cell_id": "17133108bc404c4ea98f68c4e760c44e",
    "deepnote_cell_height": 62,
    "deepnote_cell_type": "markdown",
    "tags": []
   },
   "source": [
    "### 2.1 Data Preperation"
   ]
  },
  {
   "cell_type": "code",
   "execution_count": null,
   "metadata": {
    "cell_id": "8301ce1ad03244fea47628195d5699d2",
    "deepnote_cell_height": 243,
    "deepnote_cell_type": "code",
    "deepnote_to_be_reexecuted": false,
    "execution_millis": 298,
    "execution_start": 1653648524176,
    "source_hash": "2f486d47",
    "tags": []
   },
   "outputs": [],
   "source": [
    "from load_data import make_datasets, make_datasets4\n",
    "\n",
    "X,Y,n_cat, n_ind, ind_c, labels, _ = make_datasets4(10000)\n",
    "\n",
    "ind = np.array(ind_c)\n",
    "\n",
    "X_mean = X.mean(axis=0)\n",
    "X_std = X.std(axis=0)\n",
    "data = (X - X_mean) / X_std\n",
    "X = np.array(data)"
   ]
  },
  {
   "cell_type": "code",
   "execution_count": null,
   "metadata": {
    "cell_id": "de6d08856a59486699cb6f55d59df2dd",
    "deepnote_cell_height": 348,
    "deepnote_cell_type": "code",
    "deepnote_to_be_reexecuted": false,
    "execution_millis": 44,
    "execution_start": 1653648524484,
    "source_hash": "1fa68c53",
    "tags": []
   },
   "outputs": [
    {
     "name": "stdout",
     "output_type": "stream",
     "text": [
      "num train: 6600\n",
      "num test: 3400\n"
     ]
    }
   ],
   "source": [
    "train_perc = 0.66 # percentage of training data\n",
    "split_point = int(train_perc*len(Y))\n",
    "perm = np.random.permutation(len(Y))\n",
    "ix_train = perm[:split_point]\n",
    "ix_test = perm[split_point:]\n",
    "X_train = X[ix_train,:]\n",
    "X_test = X[ix_test,:]\n",
    "ind_train = ind[ix_train]\n",
    "ind_test = ind[ix_test]\n",
    "y_train = Y[ix_train]\n",
    "y_test = Y[ix_test]\n",
    "print(\"num train: %d\" % len(y_train))\n",
    "print(\"num test: %d\" % len(y_test))"
   ]
  },
  {
   "cell_type": "code",
   "execution_count": null,
   "metadata": {
    "cell_id": "17443bbf0c8849bf9fd0f0d0007e7a7b",
    "deepnote_cell_height": 135,
    "deepnote_cell_type": "code",
    "deepnote_to_be_reexecuted": false,
    "execution_millis": 16,
    "execution_start": 1653648524548,
    "source_hash": "73e92f6f",
    "tags": []
   },
   "outputs": [],
   "source": [
    "# Prepare test data for Pyro\n",
    "X_train = torch.tensor(X_train).float()\n",
    "y_train = torch.tensor(y_train).float()\n",
    "ind_train = torch.tensor(ind_train).long()"
   ]
  },
  {
   "cell_type": "markdown",
   "metadata": {
    "cell_id": "117cb3ee86054641bfc098c707d5563c",
    "deepnote_cell_height": 62,
    "deepnote_cell_type": "markdown",
    "tags": []
   },
   "source": [
    "### 2.2 NNet with City Bias"
   ]
  },
  {
   "cell_type": "code",
   "execution_count": null,
   "metadata": {
    "cell_id": "f7e0e137ca2247e1a4a025074f598da8",
    "deepnote_cell_height": 783,
    "deepnote_cell_type": "code",
    "deepnote_to_be_reexecuted": false,
    "execution_millis": 40,
    "execution_start": 1653648524593,
    "source_hash": "2172ce2d",
    "tags": []
   },
   "outputs": [],
   "source": [
    "def DNN_city_bias(X, ind, n_cat, n_ind, obs=None):\n",
    "    # define the input dimension with the amout of columns we got\n",
    "    input_dim = X.shape[1]\n",
    "\n",
    "    # initialize the neural network\n",
    "    torch_model = FFNN(n_in=input_dim, n_hidden=3, n_out=n_cat) # Initialize the neural network from PyTorch \n",
    "\n",
    "    # to make the model baysian, priors are assigned for all parameters\n",
    "    priors = {}\n",
    "    for name, par in torch_model.named_parameters():    \n",
    "        priors[name] = dist.Normal(torch.zeros(*par.shape), torch.ones(*par.shape)).to_event() \n",
    "\n",
    "    bayesian_model = pyro.random_module('bayesian_model', torch_model, priors)\n",
    "    \n",
    "    # Initialize the model\n",
    "    sampled_model = bayesian_model()                                          \n",
    "\n",
    "\n",
    "    # Defining the hierachical NNet model starts here\n",
    "\n",
    "    # Draw a prior for the bias mean. For the priors, different values/factors have been used and it \n",
    "    # was found, that 1 is the most adequate chocice\n",
    "    alpha_mu = pyro.sample(\"alpha_mu\", dist.Normal(torch.zeros(n_cat), \n",
    "                                    1*torch.ones(n_cat)).to_event()) \n",
    "    \n",
    "    # Draw a prior for the bias variance\n",
    "    alpha_sigma  = pyro.sample(\"alpha_sigma\",  dist.HalfCauchy(1*torch.ones(n_cat)).to_event()) # Prior for the bias standard deviation\n",
    "    \n",
    "    # Draw bias for each city\n",
    "    alpha = torch.zeros(n_ind, n_cat)\n",
    "    for i in range(n_ind):\n",
    "        alpha[i] = pyro.sample(\"alpha_%d\"%i, dist.Normal(alpha_mu, alpha_sigma).to_event()) # Draw the individual parameter for each individual\n",
    "\n",
    "    # Combine bias with nnet\n",
    "    with pyro.plate(\"data\", X.shape[0]):\n",
    "        nnet = sampled_model(X).squeeze(-1)\n",
    "        logits = alpha[ind] + nnet\n",
    "        y = pyro.sample(\"y\", dist.Categorical(logits=logits), obs=obs) # If you use logits you don't need to do sigmoid\n",
    "\n",
    "    return y, alpha"
   ]
  },
  {
   "cell_type": "code",
   "execution_count": null,
   "metadata": {
    "cell_id": "f27cccbe59b14cf490372f818cb00627",
    "deepnote_cell_height": 608,
    "deepnote_cell_type": "code",
    "deepnote_to_be_reexecuted": false,
    "execution_millis": 1060339,
    "execution_start": 1653648524661,
    "source_hash": "be102029",
    "tags": []
   },
   "outputs": [
    {
     "name": "stdout",
     "output_type": "stream",
     "text": [
      "[0] ELBO: 10459.8\n",
      "[500] ELBO: 4449.3\n",
      "[1000] ELBO: 4333.4\n",
      "[1500] ELBO: 4277.3\n",
      "[2000] ELBO: 4267.1\n",
      "[2500] ELBO: 4231.6\n"
     ]
    }
   ],
   "source": [
    "# Define guide function\n",
    "guide = AutoDiagonalNormal(DNN_city_bias)\n",
    "\n",
    "# Reset parameter values\n",
    "pyro.clear_param_store()\n",
    "\n",
    "# Define the number of optimization steps\n",
    "n_steps = 3000\n",
    "\n",
    "# Setup the optimizer\n",
    "adam_params = {\"lr\": 0.005}\n",
    "optimizer = ClippedAdam(adam_params)\n",
    "\n",
    "# Setup the inference algorithm\n",
    "elbo = Trace_ELBO(num_particles=3)\n",
    "svi = SVI(DNN_city_bias, guide, optimizer, loss=elbo)\n",
    "\n",
    "# Do gradient steps\n",
    "for step in range(n_steps):\n",
    "    elbo = svi.step(X_train, ind_train, n_cat, n_ind, y_train) # changed ind_train-1 and y_train-1\n",
    "    if step % 500 == 0:\n",
    "        print(\"[%d] ELBO: %.1f\" % (step, elbo))\n"
   ]
  },
  {
   "cell_type": "markdown",
   "metadata": {
    "cell_id": "153e5c107de9461f8cf7652c00e4a616",
    "deepnote_cell_height": 62,
    "deepnote_cell_type": "markdown",
    "tags": []
   },
   "source": [
    "### 2.3 Prediction Quality"
   ]
  },
  {
   "cell_type": "code",
   "execution_count": null,
   "metadata": {
    "cell_id": "c6727b2a91b84c79a0bd8f96b40f274f",
    "deepnote_cell_height": 328,
    "deepnote_cell_type": "code",
    "deepnote_to_be_reexecuted": false,
    "execution_millis": 99112,
    "execution_start": 1653649585049,
    "source_hash": "fd6377e",
    "tags": []
   },
   "outputs": [
    {
     "name": "stdout",
     "output_type": "stream",
     "text": [
      "Accuracy: 0.7861764705882353\n"
     ]
    }
   ],
   "source": [
    "X_test = torch.tensor(X_test).float()\n",
    "predictive = Predictive(DNN_city_bias, guide=guide, num_samples=2000,\n",
    "                        return_sites=(\"y\", \"alpha_sigma\"))\n",
    "samples = predictive(X_test, ind_test, n_cat, n_ind)\n",
    "\n",
    "y_samples = samples[\"y\"].detach().numpy()\n",
    "\n",
    "y_hat = samples['y'].detach().numpy()\n",
    "\n",
    "from scipy import stats as st\n",
    "y_pred, _ = st.mode(y_hat)\n",
    "\n",
    "print(\"Accuracy:\", 1.0*np.sum((y_pred[0]) == y_test) / len(y_test))"
   ]
  },
  {
   "cell_type": "code",
   "execution_count": null,
   "metadata": {
    "cell_id": "77a64c4ab6c44b24bc3e9439ba761bf0",
    "deepnote_cell_height": 312,
    "deepnote_cell_type": "code",
    "deepnote_to_be_reexecuted": false,
    "execution_millis": 322,
    "execution_start": 1653649683847,
    "source_hash": "343af74c",
    "tags": []
   },
   "outputs": [
    {
     "name": "stdout",
     "output_type": "stream",
     "text": [
      "              precision    recall  f1-score   support\n",
      "\n",
      "         0.0       0.73      0.71      0.72       860\n",
      "         1.0       0.81      0.91      0.86      2239\n",
      "         2.0       0.42      0.10      0.16       185\n",
      "         3.0       0.33      0.03      0.06       116\n",
      "\n",
      "    accuracy                           0.79      3400\n",
      "   macro avg       0.57      0.44      0.45      3400\n",
      "weighted avg       0.75      0.79      0.76      3400\n",
      "\n"
     ]
    }
   ],
   "source": [
    "print(classification_report(y_test, y_pred[0]))"
   ]
  },
  {
   "cell_type": "markdown",
   "metadata": {
    "cell_id": "78f231834ffe4e90ad1522d73b2d6bc6",
    "deepnote_cell_height": 74,
    "deepnote_cell_type": "markdown",
    "tags": []
   },
   "source": [
    "The new model assumptions made the model perform a bit better. We can now reach a accuracy of nearly 79 %. This tells us, that in our test case the city is a bit more helpful for predicting the transport mode than the age group."
   ]
  },
  {
   "cell_type": "markdown",
   "metadata": {
    "cell_id": "b8b9bb66b8b9465d96b7bf48192f1c24",
    "deepnote_cell_height": 62,
    "deepnote_cell_type": "markdown",
    "tags": []
   },
   "source": [
    "### 2.4 Distribution of the priors"
   ]
  },
  {
   "cell_type": "code",
   "execution_count": null,
   "metadata": {
    "cell_id": "4fe25018fce246a8ae20cd160b21f364",
    "deepnote_cell_height": 297,
    "deepnote_cell_type": "code",
    "deepnote_to_be_reexecuted": false,
    "execution_millis": 99499,
    "execution_start": 1653649683957,
    "source_hash": "d30035b4",
    "tags": []
   },
   "outputs": [],
   "source": [
    "predictive = Predictive(DNN_city_bias, guide=guide, num_samples=2000,\n",
    "                        return_sites=(\"y\", \"alpha_0\", \"alpha_1\", \"alpha_2\", \"alpha_3\", \"alpha_4\", \"alpha_5\",\n",
    "                         \"alpha_6\", \"alpha_7\", \"alpha_8\",\"alpha_9\",\"alpha_10\",\n",
    "                         \"alpha_mu\", \"alpha_sigma\"))\n",
    "samples = predictive(X_train, ind_train, n_cat, n_ind, y_train)\n",
    "\n",
    "\n",
    "y_samples = samples[\"y\"].detach().numpy()\n",
    "alpha_mu_samples = samples[\"alpha_mu\"].detach().numpy()\n",
    "alpha_sigma_samples = samples[\"alpha_sigma\"].detach().numpy()\n",
    "\n",
    "for i in range(n_ind):\n",
    "    globals()[f'alpha_samples{i}'] = samples[\"alpha_%d\" %i].detach().numpy()"
   ]
  },
  {
   "cell_type": "code",
   "execution_count": null,
   "metadata": {
    "cell_id": "73a48aa54163477a86f9fd991a7c6ff1",
    "deepnote_cell_height": 261,
    "deepnote_cell_type": "code",
    "deepnote_to_be_reexecuted": false,
    "execution_millis": 51,
    "execution_start": 1653649783457,
    "source_hash": "3b68975a",
    "tags": []
   },
   "outputs": [],
   "source": [
    "alpha_samples_0 = alpha_samples0.reshape((alpha_samples0.shape[0]*alpha_samples0.shape[1], alpha_samples0.shape[2]))\n",
    "alpha_samples_1 = alpha_samples1.reshape((alpha_samples1.shape[0]*alpha_samples1.shape[1], alpha_samples1.shape[2]))\n",
    "alpha_samples_2 = alpha_samples2.reshape((alpha_samples2.shape[0]*alpha_samples2.shape[1], alpha_samples2.shape[2]))\n",
    "alpha_samples_3 = alpha_samples3.reshape((alpha_samples3.shape[0]*alpha_samples3.shape[1], alpha_samples3.shape[2]))\n",
    "alpha_samples_4 = alpha_samples4.reshape((alpha_samples4.shape[0]*alpha_samples4.shape[1], alpha_samples4.shape[2]))\n",
    "alpha_samples_5 = alpha_samples5.reshape((alpha_samples5.shape[0]*alpha_samples5.shape[1], alpha_samples5.shape[2]))\n",
    "alpha_samples_6 = alpha_samples6.reshape((alpha_samples6.shape[0]*alpha_samples6.shape[1], alpha_samples6.shape[2]))\n",
    "alpha_samples_7 = alpha_samples7.reshape((alpha_samples7.shape[0]*alpha_samples7.shape[1], alpha_samples7.shape[2]))\n",
    "alpha_samples_8 = alpha_samples8.reshape((alpha_samples8.shape[0]*alpha_samples8.shape[1], alpha_samples8.shape[2]))\n",
    "alpha_samples_9 = alpha_samples9.reshape((alpha_samples9.shape[0]*alpha_samples9.shape[1], alpha_samples9.shape[2]))\n",
    "alpha_samples_10 = alpha_samples10.reshape((alpha_samples10.shape[0]*alpha_samples10.shape[1], alpha_samples10.shape[2]))"
   ]
  },
  {
   "cell_type": "code",
   "execution_count": null,
   "metadata": {
    "cell_id": "e698268591cc49cc926bfce3fbafcce0",
    "deepnote_cell_height": 619,
    "deepnote_cell_type": "code",
    "deepnote_output_heights": [
     468
    ],
    "deepnote_to_be_reexecuted": false,
    "execution_millis": 3555,
    "execution_start": 1653649783524,
    "source_hash": "3691205e",
    "tags": []
   },
   "outputs": [
    {
     "data": {
      "image/png": "[encoded data removed]",
      "text/plain": [
       "<Figure size 864x576 with 1 Axes>"
      ]
     },
     "metadata": {
      "image/png": {
       "height": 466,
       "width": 720
      },
      "needs_background": "light"
     },
     "output_type": "display_data"
    }
   ],
   "source": [
    "for c in range(n_cat):\n",
    "    sns.distplot(alpha_mu_samples[:,0,c])\n",
    "plt.legend([\"alpha_mu[%d]\" % c for c in range(n_cat)])\n",
    "plt.show()"
   ]
  },
  {
   "cell_type": "markdown",
   "metadata": {
    "cell_id": "8c794bcf00cf4a639fe7c94a51069e03",
    "deepnote_cell_height": 96,
    "deepnote_cell_type": "markdown",
    "tags": []
   },
   "source": [
    "We can see again, that the model clearly learned. However, for this model the picture regarding the mean is more nuanced. We see, that the mean for the bikes (alpha_mu[0]) is very narrow centered around 0. The bias mean of the cars (alpha_mu[1]) is again positive as it is the most popular transport mode. Trains and busses are again negative."
   ]
  },
  {
   "cell_type": "code",
   "execution_count": null,
   "metadata": {
    "cell_id": "bdecb1385ef447a3857eab4894945fe0",
    "deepnote_cell_height": 619,
    "deepnote_cell_type": "code",
    "deepnote_output_heights": [
     468
    ],
    "deepnote_to_be_reexecuted": false,
    "execution_millis": 4151,
    "execution_start": 1653649787092,
    "source_hash": "7cdf63a2",
    "tags": []
   },
   "outputs": [
    {
     "data": {
      "image/png": "[encoded data removed]",
      "text/plain": [
       "<Figure size 864x576 with 1 Axes>"
      ]
     },
     "metadata": {
      "image/png": {
       "height": 466,
       "width": 730
      },
      "needs_background": "light"
     },
     "output_type": "display_data"
    }
   ],
   "source": [
    "for c in range(n_cat):\n",
    "    sns.distplot(alpha_sigma_samples[:,0,c])\n",
    "plt.legend([\"alpha_sigma[%d]\" % c for c in range(n_cat)])\n",
    "plt.show()"
   ]
  },
  {
   "cell_type": "markdown",
   "metadata": {
    "cell_id": "f24c5c5a4a474b769287595fb73fc06c",
    "deepnote_cell_height": 62,
    "deepnote_cell_type": "markdown",
    "tags": []
   },
   "source": [
    "### 2.5 Analysis of the intercepts"
   ]
  },
  {
   "cell_type": "code",
   "execution_count": null,
   "metadata": {
    "cell_id": "db13e61d5a3248aabb37226e0ec24b88",
    "deepnote_cell_height": 868.171875,
    "deepnote_cell_type": "code",
    "deepnote_output_heights": [
     537.171875
    ],
    "deepnote_to_be_reexecuted": false,
    "execution_millis": 3619,
    "execution_start": 1653649791250,
    "source_hash": "b0132704",
    "tags": []
   },
   "outputs": [
    {
     "data": {
      "image/png": "[encoded data removed]",
      "text/plain": [
       "<Figure size 1080x648 with 4 Axes>"
      ]
     },
     "metadata": {
      "image/png": {
       "height": 586,
       "width": 888
      },
      "needs_background": "light"
     },
     "output_type": "display_data"
    }
   ],
   "source": [
    "alphas = np.stack((alpha_samples_0, alpha_samples_1, alpha_samples_2,alpha_samples_3, alpha_samples_4,alpha_samples_5,alpha_samples_6,alpha_samples_7,alpha_samples_8,alpha_samples_9,alpha_samples_10), axis=0)\n",
    "\n",
    "alphas = alphas.mean(axis=1)\n",
    "\n",
    "fig, ax = plt.subplots(nrows=2, ncols=2, sharex=True, figsize=(15,9))\n",
    "modes =[\"Bike\", \"Car\", \"Bus\", \"Train\"]\n",
    "ax = ax.flatten()\n",
    "for i in range(n_cat):    \n",
    "    ax[i].scatter(range(11), alphas[:,i]);\n",
    "    ax[i].set_title(modes[i])\n",
    "    ax[i].tick_params(axis=\"x\", rotation=50)\n",
    "    plt.xticks(np.arange(11), ['Aarhus', 'Copenhagen', 'Esbjerg', 'Frederiksberg', 'Horsens',\n",
    "       'Kolding', 'Odense', 'Randers', 'Roskilde', 'Landside', 'Vejle']);\n"
   ]
  },
  {
   "cell_type": "markdown",
   "metadata": {
    "cell_id": "56d1f2a0d2ee45f5882128da08bc2dfb",
    "deepnote_cell_height": 52,
    "deepnote_cell_type": "markdown",
    "tags": []
   },
   "source": [
    "Little note: \"Landside\" includes all smaller cities, as we assume that they have similar transport infrastructure."
   ]
  },
  {
   "cell_type": "markdown",
   "metadata": {
    "cell_id": "9caae41c3f4d47e89d7787e70a42bcb7",
    "deepnote_cell_height": 388,
    "deepnote_cell_type": "markdown",
    "tags": []
   },
   "source": [
    "The graph tells us the following about the different cities. First, we want to talk about bicycles and the capital Copenhagen. **Copenhagen's highest bias towards bicycles** which was expected as people in the capital ride the most bike in Denmark as it can be seen in the statistics [here](https://cyclingsolutions.info/embassy/danish-cycling-statistics/). **Trains are very popular**, too which makes sense with the **dense s-train and metro grid**. Therefore, cars and buses are less popular in Copenhagen. Frederiksberg is pretty similar, with the difference that trains are less popular in this commune.\n",
    "\n",
    "In the statistics, it is shown, that people from Odense also ride a lot of bikes, which can also be seen in our graph. However, people from Aarhus also bike more than the average Dane according to the statistic while in our graph, they are in the mid-field. The reason for this could be the following: we also see a high bias towards busses in Aarhus, and as a city can not have a high intercept for all modes, this could influence this bicycle bias. This example shows us, that care must be taken when interpreting these graphs and one alone does not show the whole picture.\n",
    "\n",
    "Continuing with the biases towards **car usage**, we see a clear picture: in the **urban areas like Copenhagen/Frederiksberg and Aarhus, we have a significantly lower bias than in the smaller cities**. For the busses, we see that in some cities people use it a lot like in Aarhus and Randers, while there are very different usages among the other cities. The picture for the train biases is also more complex than for the cars. As mentioned, people in Copenhagen use the train a lot while people from other communes use it less (also probably because they have less train infrastructure)."
   ]
  },
  {
   "cell_type": "markdown",
   "metadata": {
    "cell_id": "20f93fb7dd1e4a6c9072e819b9c32c23",
    "deepnote_cell_height": 82,
    "deepnote_cell_type": "markdown",
    "tags": []
   },
   "source": [
    "# Limitations of the approach"
   ]
  },
  {
   "cell_type": "markdown",
   "metadata": {
    "cell_id": "fd9e33db02e84ea09f77c5152de80921",
    "deepnote_cell_height": 242,
    "deepnote_cell_type": "markdown",
    "tags": []
   },
   "source": [
    "In this notebook, we built two different models. Both were hierarchical models which combined a bias with a neural network. We could derive insightful conclusions and the model is performing well in terms of accuracy, even though this is not very hard as we have a very imbalanced dataset. A shortcoming of this approach is, however, that you can not interpret anything apart from the intercept, as the rest of the model is a black-box neural network. Therefore, we decided to not stop here and built yet another model, which also allows for some more modifications and interpretability. \n",
    "\n",
    "In other words: we have fully implemented the idea, we presented in the first hand-in and are satisfied with the results, but as a part of our journey, we recognized the shortcomings and therefore wanted to continue with a new model. We do not see this as an issue, as **sometimes in academia you investigate in one direction, but have to realize that another approach might be better**. In the next notebooks, you will see models without neural networks."
   ]
  },
  {
   "cell_type": "markdown",
   "metadata": {
    "created_in_deepnote_cell": true,
    "deepnote_cell_type": "markdown",
    "tags": []
   },
   "source": [
    "<a style='text-decoration:none;line-height:16px;display:flex;color:#5B5B62;padding:10px;justify-content:end;' href='https://deepnote.com?utm_source=created-in-deepnote-cell&projectId=33ff09b2-3bea-450e-b86b-71092420bc76' target=\"_blank\">\n",
    "<img alt='Created in deepnote.com' style='display:inline;max-height:16px;margin:0px;margin-right:7.5px;' src='data:image/svg+xml;base64,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' > </img>\n",
    "Created in <span style='font-weight:600;margin-left:4px;'>Deepnote</span></a>"
   ]
  }
 ],
 "metadata": {
  "deepnote": {},
  "deepnote_execution_queue": [],
  "deepnote_notebook_id": "ad1bf13b-f0c5-4164-b1fa-32bf85edccba",
  "kernelspec": {
   "display_name": "Python 3 (ipykernel)",
   "language": "python",
   "name": "python3"
  },
  "language_info": {
   "codemirror_mode": {
    "name": "ipython",
    "version": 3
   },
   "file_extension": ".py",
   "mimetype": "text/x-python",
   "name": "python",
   "nbconvert_exporter": "python",
   "pygments_lexer": "ipython3",
   "version": "3.9.12"
  }
 },
 "nbformat": 4,
 "nbformat_minor": 2
}
